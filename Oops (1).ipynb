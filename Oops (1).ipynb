{
 "cells": [
  {
   "cell_type": "code",
   "execution_count": 1,
   "id": "635eafc2-b2bd-495e-99e2-d86a3e5fb870",
   "metadata": {},
   "outputs": [],
   "source": [
    "# Python OOPs Concepts\n",
    "\n",
    "# Object Oriented Programming is a fundamental concept in Python, \n",
    "# empowering developers to build modular, maintainable, and scalable applications. \n",
    "# By understanding the core OOP principles \n",
    "# (classes, objects, inheritance, encapsulation, polymorphism, and abstraction), \n",
    "# programmers can leverage the full potential of Python OOP capabilities to design \n",
    "# elegant and efficient solutions to complex problems"
   ]
  },
  {
   "cell_type": "code",
   "execution_count": 3,
   "id": "98cdc2b6-a341-44db-be81-7a6210e8399d",
   "metadata": {},
   "outputs": [],
   "source": [
    "# OOPs Concepts in Python\n",
    "# Class in Python\n",
    "# Objects in Python\n",
    "# Polymorphism in Python\n",
    "# Encapsulation in Python\n",
    "# Inheritance in Python\n",
    "# Data Abstraction in Python"
   ]
  },
  {
   "cell_type": "code",
   "execution_count": 5,
   "id": "b247fd7b-fd34-4d94-bbe5-89f899637874",
   "metadata": {},
   "outputs": [],
   "source": [
    "# # # Python Class\n",
    "\n",
    "# # A class is a collection of objects. Classes are blueprints for creating objects. \n",
    "# A class defines a set of attributes and methods \n",
    "# that the created objects (instances) can have."
   ]
  },
  {
   "cell_type": "code",
   "execution_count": 7,
   "id": "687ca24d-69e0-4962-b41e-ae31c9784440",
   "metadata": {},
   "outputs": [],
   "source": [
    "# Some points on Python class:  \n",
    "\n",
    "# Classes are created by keyword class.\n",
    "# Attributes are the variables that belong to a class.\n",
    "# Attributes are always public and can be accessed using the dot (.) operator. Example: Myclass.Myattribute"
   ]
  },
  {
   "cell_type": "code",
   "execution_count": 9,
   "id": "26ca4c43-bf6c-449d-bc83-aa7e831870d9",
   "metadata": {},
   "outputs": [],
   "source": [
    "class Dog:\n",
    "    species = \"Canine\"  # Class attribute\n",
    "\n",
    "    def __init__(self, name, age):\n",
    "        self.name = name  # Instance attribute\n",
    "        self.age = age  # Instance attribute\n"
   ]
  },
  {
   "cell_type": "code",
   "execution_count": 11,
   "id": "1dd6f02e-0067-47b6-ae3f-6df3d8ba447c",
   "metadata": {},
   "outputs": [],
   "source": [
    "#  Python Objects\n",
    "#  An Object is an instance of a Class. \n",
    "# It represents a specific implementation of the class and holds its own data."
   ]
  },
  {
   "cell_type": "code",
   "execution_count": 15,
   "id": "7bc49ed5-7fcd-4b42-a124-7a5817be2fd0",
   "metadata": {},
   "outputs": [
    {
     "name": "stdout",
     "output_type": "stream",
     "text": [
      "Buddy\n",
      "Canine\n"
     ]
    }
   ],
   "source": [
    "class Dog:\n",
    "    species = \"Canine\"  # Class attribute\n",
    "\n",
    "    def __init__(self, name, age):\n",
    "        self.name = name  # Instance attribute\n",
    "        self.age = age  # Instance attribute\n",
    "\n",
    "# Creating an object of the Dog class\n",
    "dog1 = Dog(\"Buddy\", 3)\n",
    "\n",
    "print(dog1.name) \n",
    "print(dog1.species)"
   ]
  },
  {
   "cell_type": "code",
   "execution_count": 17,
   "id": "5afc26d1-178d-4bb4-a17d-9f2c290724f0",
   "metadata": {},
   "outputs": [],
   "source": [
    "# Self Parameter\n",
    "# self parameter is a reference to the current instance of the class. \n",
    "# It allows us to access the attributes and methods of the object."
   ]
  },
  {
   "cell_type": "code",
   "execution_count": 19,
   "id": "3a0648a1-577f-44f5-a110-4f5c77784fab",
   "metadata": {},
   "outputs": [
    {
     "name": "stdout",
     "output_type": "stream",
     "text": [
      "Buddy 3 Canine\n",
      "Charlie 5 Canine\n",
      "Canine\n"
     ]
    }
   ],
   "source": [
    "class Dog:\n",
    "    species = \"Canine\"  # Class attribute\n",
    "\n",
    "    def __init__(self, name, age):\n",
    "        self.name = name  # Instance attribute\n",
    "        self.age = age  # Instance attribute\n",
    "\n",
    "dog1 = Dog(\"Buddy\", 3)  # Create an instance of Dog\n",
    "dog2 = Dog(\"Charlie\", 5)  # Create another instance of Dog\n",
    "\n",
    "print(dog1.name, dog1.age, dog1.species)  # Access instance and class attributes\n",
    "print(dog2.name, dog2.age, dog2.species)  # Access instance and class attributes\n",
    "print(Dog.species)  # Access class attribute directly\n"
   ]
  }
 ],
 "metadata": {
  "kernelspec": {
   "display_name": "Python [conda env:base] *",
   "language": "python",
   "name": "conda-base-py"
  },
  "language_info": {
   "codemirror_mode": {
    "name": "ipython",
    "version": 3
   },
   "file_extension": ".py",
   "mimetype": "text/x-python",
   "name": "python",
   "nbconvert_exporter": "python",
   "pygments_lexer": "ipython3",
   "version": "3.12.7"
  }
 },
 "nbformat": 4,
 "nbformat_minor": 5
}
