{
 "cells": [
  {
   "cell_type": "code",
   "execution_count": 15,
   "id": "bb9b21f8-9a4c-49c2-97dd-2567dd756bd1",
   "metadata": {},
   "outputs": [
    {
     "name": "stdout",
     "output_type": "stream",
     "text": [
      "sam\n",
      "5000\n",
      "Deposit successful! New balance: 6000\n",
      "Withdraw successful! New balance : 4000\n"
     ]
    }
   ],
   "source": [
    "class BankAccount:\n",
    "    def __init__(self,account_holder,balance):\n",
    "        self.__account_holder=account_holder\n",
    "        self.__balance=balance\n",
    "\n",
    "    def get_account_holder(self):\n",
    "        return self.__account_holder\n",
    "\n",
    "    def get_balance(self):\n",
    "        return self.__balance\n",
    "\n",
    "    def deposit(self,amount):\n",
    "        if amount>0:\n",
    "            self.__balance += amount\n",
    "            return f\"Deposit successful! New balance: {self.__balance}\"\n",
    "        else:\n",
    "            return \"Insufficient funds!\"\n",
    "\n",
    "    def withdraw(self, amount):\n",
    "        if amount <= self.__balance:\n",
    "            self.__balance -= amount\n",
    "            return f\"Withdraw successful! New balance : {self.__balance}\"\n",
    "\n",
    "# using the class\n",
    "account = BankAccount(\"sam\",5000)\n",
    "print(account.get_account_holder())\n",
    "print(account.get_balance())\n",
    "print(account.deposit(1000))\n",
    "print(account.withdraw(2000))\n",
    "    "
   ]
  },
  {
   "cell_type": "code",
   "execution_count": 31,
   "id": "6c912633-9449-468c-b07f-ba05172a29fc",
   "metadata": {},
   "outputs": [
    {
     "name": "stdout",
     "output_type": "stream",
     "text": [
      "Rohit\n",
      "85\n",
      "grade updated successfully!\n",
      "90\n",
      "Invalid grade! must be between 0 and 100.\n"
     ]
    }
   ],
   "source": [
    "class Student:\n",
    "    def __init__(self,name,grade):\n",
    "        self.name=name\n",
    "        self.__grade=grade\n",
    "\n",
    "    def get_grade(self):\n",
    "        return self.__grade\n",
    "\n",
    "    def set_grade(self,new_grade):\n",
    "        if 0 <= new_grade <= 100:\n",
    "            self .__grade = new_grade\n",
    "            return \"grade updated successfully!\"\n",
    "        else:\n",
    "            return\"Invalid grade! must be between 0 and 100.\"\n",
    "\n",
    "student = Student(\"Rohit\",85)\n",
    "print(student.name)\n",
    "print(student.get_grade())\n",
    "print(student.set_grade(90))\n",
    "print(student.get_grade())\n",
    "print(student.set_grade(150))"
   ]
  },
  {
   "cell_type": "code",
   "execution_count": 35,
   "id": "bc2b02f8-7b84-462b-9f9b-267c37c9dcc1",
   "metadata": {},
   "outputs": [
    {
     "name": "stdout",
     "output_type": "stream",
     "text": [
      "Medical record added for Rohit\n",
      "Medical record added for Rohit\n",
      "Medical record added for Rohit\n",
      "Medical History for Rohit: ['2024: Flu Diagnosis', '2024: Blood test result normal', '2024: covid']\n"
     ]
    }
   ],
   "source": [
    "class Patient:\n",
    "    def __init__(self,name,age):\n",
    "        self.__name = name\n",
    "        self.__age = age\n",
    "        self.__medical_history = []\n",
    "\n",
    "    def add_medical_record(self, record):\n",
    "        self.__medical_history.append(record)\n",
    "        return f\"Medical record added for {self.__name}\"\n",
    "\n",
    "    def get_medical_history(self):\n",
    "        return f\"Medical History for {self.__name}: {self.__medical_history}\"\n",
    "\n",
    "patient = Patient(\"Rohit\",30)\n",
    "print(patient.add_medical_record(\"2024: Flu Diagnosis\"))\n",
    "print(patient.add_medical_record(\"2024: Blood test result normal\"))\n",
    "print(patient.add_medical_record(\"2024: covid\"))\n",
    "\n",
    "print(patient.get_medical_history())"
   ]
  },
  {
   "cell_type": "code",
   "execution_count": 41,
   "id": "2cb38220-4dd0-4892-b19f-39b0a60e7653",
   "metadata": {},
   "outputs": [
    {
     "name": "stdout",
     "output_type": "stream",
     "text": [
      "score added for Math: 10.\n",
      "score added for science: 20.\n",
      "scores for <__main__.Student object at 0x000001589D32DC40>: [{'subject': 'Math', 'score': 10}, {'subject': 'science', 'score': 20}]\n",
      "Average score: 15.00\n"
     ]
    }
   ],
   "source": [
    "class Exam:\n",
    "    def __init__(self,student_name):\n",
    "        self.__student_name = student\n",
    "        self.__scores = []\n",
    "\n",
    "    def add_score(self,subject, score):\n",
    "        if 0 <= score <= 100:\n",
    "            self.__scores.append({\"subject\":subject,\"score\":score})\n",
    "            return f\"score added for {subject}: {score}.\"\n",
    "        return \"Invalid score! Must be between 0 and 100.\"\n",
    "\n",
    "    def get_scores(self):\n",
    "        return f\"scores for {self.__student_name}: {self.__scores}\"\n",
    "\n",
    "    def calculate_average(self):\n",
    "        if not self.__scores:\n",
    "            return \"No scores avaiable.\"\n",
    "        total = sum(item[\"score\"] for item in self.__scores)\n",
    "        return f\"Average score: {total / len(self.__scores):.2f}\"\n",
    "\n",
    "exam=Exam(\"sam\")\n",
    "print(exam.add_score(\"Math\",10))\n",
    "print(exam.add_score(\"science\",20))\n",
    "print(exam.get_scores())\n",
    "print(exam.calculate_average())"
   ]
  },
  {
   "cell_type": "code",
   "execution_count": null,
   "id": "d4d11547-f395-4b2a-be8a-028a59e2416a",
   "metadata": {},
   "outputs": [],
   "source": []
  }
 ],
 "metadata": {
  "kernelspec": {
   "display_name": "Python [conda env:base] *",
   "language": "python",
   "name": "conda-base-py"
  },
  "language_info": {
   "codemirror_mode": {
    "name": "ipython",
    "version": 3
   },
   "file_extension": ".py",
   "mimetype": "text/x-python",
   "name": "python",
   "nbconvert_exporter": "python",
   "pygments_lexer": "ipython3",
   "version": "3.12.7"
  }
 },
 "nbformat": 4,
 "nbformat_minor": 5
}

# Decorator Function
def log_decorators(func):
    def weapper(*args, **kwargs):
        print(f"function '{func.__name__}' is called")
        result = func(*args, **kwargs)
        print(f"function '(func.__name__)' finished execution")
        return result
    return weapper

@log_decorator
def greet(name):
    print(f"Hello, {name}!")

greet("Alihasan")
